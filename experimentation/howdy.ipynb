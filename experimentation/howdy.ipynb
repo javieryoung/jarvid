{
 "cells": [
  {
   "cell_type": "markdown",
   "metadata": {},
   "source": [
    "# Imports"
   ]
  },
  {
   "cell_type": "code",
   "execution_count": 1,
   "metadata": {},
   "outputs": [],
   "source": [
    "#!pip install openai\n",
    "#!pip install PyPDF2\n",
    "#!pip install openpyxl\n",
    "#!pip install unidecode\n",
    "\n",
    "import pandas as pd\n",
    "from openai import OpenAI\n",
    "from confighowdy import OPENAI_API_KEY, CV_FOLDER, FILE_PARTNER_DATABASE, PROCESSED_FILE\n",
    "\n",
    "#from prompt_handler import *"
   ]
  },
  {
   "cell_type": "code",
   "execution_count": 2,
   "metadata": {},
   "outputs": [],
   "source": [
    "%run functions-howdy.ipynb\n"
   ]
  },
  {
   "cell_type": "markdown",
   "metadata": {},
   "source": [
    "# Client instance:"
   ]
  },
  {
   "cell_type": "code",
   "execution_count": 3,
   "metadata": {},
   "outputs": [],
   "source": [
    "\n",
    "# Initialize client\n",
    "client = OpenAI(\n",
    "    api_key=OPENAI_API_KEY,\n",
    ")"
   ]
  },
  {
   "cell_type": "markdown",
   "metadata": {},
   "source": [
    "# Partner CV processing"
   ]
  },
  {
   "cell_type": "code",
   "execution_count": 4,
   "metadata": {},
   "outputs": [],
   "source": [
    "# Path to the folder containing the PDF files\n",
    "cvs_dict = process_all_pdfs(CV_FOLDER)"
   ]
  },
  {
   "cell_type": "code",
   "execution_count": 5,
   "metadata": {},
   "outputs": [
    {
     "name": "stdout",
     "output_type": "stream",
     "text": [
      "Sofía Vargas\n",
      "I am dedicated to developing innovative software solutions for the sports industry. My focus is on\n",
      "creating applications that enhance athletic performance and engage sports enthusiasts.\n",
      "Name: Sofía Vargas\n",
      "Company: PeakPerformance Sports\n",
      "Technologies: Vue.js, JavaScript, Cassandra\n",
      "Education\n",
      "- BSc Sports Management - Universidad de Madrid\n",
      "Experience\n",
      "- Software Developer at PeakPerformance Sports (3 years)\n",
      "- Intern at SportsTech (1 year)\n",
      "Additional Skills\n",
      "- Sports Technology\n",
      "- Web Development\n",
      "- User Experience\n"
     ]
    }
   ],
   "source": [
    "# CV sanity check\n",
    "\n",
    "# Get the keys of the dictionary\n",
    "cvs_dict_keys = list(cvs_dict.keys())\n",
    "\n",
    "# Print processed CV sample\n",
    "print(cvs_dict[cvs_dict_keys[1]])"
   ]
  },
  {
   "cell_type": "markdown",
   "metadata": {},
   "source": [
    "# Get partner information database"
   ]
  },
  {
   "cell_type": "code",
   "execution_count": 6,
   "metadata": {},
   "outputs": [],
   "source": [
    "partner_information_dataframe = get_partner_information(FILE_PARTNER_DATABASE)"
   ]
  },
  {
   "cell_type": "code",
   "execution_count": 7,
   "metadata": {},
   "outputs": [
    {
     "data": {
      "text/html": [
       "<div>\n",
       "<style scoped>\n",
       "    .dataframe tbody tr th:only-of-type {\n",
       "        vertical-align: middle;\n",
       "    }\n",
       "\n",
       "    .dataframe tbody tr th {\n",
       "        vertical-align: top;\n",
       "    }\n",
       "\n",
       "    .dataframe thead th {\n",
       "        text-align: right;\n",
       "    }\n",
       "</style>\n",
       "<table border=\"1\" class=\"dataframe\">\n",
       "  <thead>\n",
       "    <tr style=\"text-align: right;\">\n",
       "      <th></th>\n",
       "      <th>Name</th>\n",
       "      <th>Partner</th>\n",
       "      <th>Technologies</th>\n",
       "      <th>Industry</th>\n",
       "    </tr>\n",
       "  </thead>\n",
       "  <tbody>\n",
       "    <tr>\n",
       "      <th>66</th>\n",
       "      <td>Hugo Soto</td>\n",
       "      <td>UrbanNest Realty</td>\n",
       "      <td>Vue.js, Kotlin, PostgreSQL</td>\n",
       "      <td>Real Estate</td>\n",
       "    </tr>\n",
       "    <tr>\n",
       "      <th>59</th>\n",
       "      <td>Ignacio Paredes</td>\n",
       "      <td>Oceanic Foods</td>\n",
       "      <td>Angular, Node.js, SQLite</td>\n",
       "      <td>Food Industry</td>\n",
       "    </tr>\n",
       "    <tr>\n",
       "      <th>62</th>\n",
       "      <td>Manuela Diaz</td>\n",
       "      <td>PulseTech Systems</td>\n",
       "      <td>Angular, Flask, PostgreSQL</td>\n",
       "      <td>Technology</td>\n",
       "    </tr>\n",
       "    <tr>\n",
       "      <th>39</th>\n",
       "      <td>Sofia Molina</td>\n",
       "      <td>Horizon BioSciences</td>\n",
       "      <td>Vue.js, Java, SQL Server</td>\n",
       "      <td>Biotechnology</td>\n",
       "    </tr>\n",
       "    <tr>\n",
       "      <th>6</th>\n",
       "      <td>Ana Gomez</td>\n",
       "      <td>QuantumMed Innovations</td>\n",
       "      <td>React, Python, SQLite</td>\n",
       "      <td>Healthcare</td>\n",
       "    </tr>\n",
       "  </tbody>\n",
       "</table>\n",
       "</div>"
      ],
      "text/plain": [
       "               Name                 Partner                Technologies  \\\n",
       "66        Hugo Soto        UrbanNest Realty  Vue.js, Kotlin, PostgreSQL   \n",
       "59  Ignacio Paredes           Oceanic Foods    Angular, Node.js, SQLite   \n",
       "62     Manuela Diaz       PulseTech Systems  Angular, Flask, PostgreSQL   \n",
       "39     Sofia Molina     Horizon BioSciences    Vue.js, Java, SQL Server   \n",
       "6         Ana Gomez  QuantumMed Innovations       React, Python, SQLite   \n",
       "\n",
       "         Industry  \n",
       "66    Real Estate  \n",
       "59  Food Industry  \n",
       "62     Technology  \n",
       "39  Biotechnology  \n",
       "6      Healthcare  "
      ]
     },
     "execution_count": 7,
     "metadata": {},
     "output_type": "execute_result"
    }
   ],
   "source": [
    "# Partner info sanity check\n",
    "partner_information_dataframe.sample(5)"
   ]
  },
  {
   "cell_type": "markdown",
   "metadata": {},
   "source": [
    "# Process partner's cvs"
   ]
  },
  {
   "cell_type": "code",
   "execution_count": 8,
   "metadata": {},
   "outputs": [
    {
     "data": {
      "text/plain": [
       "{'Francisco_Moreno_Resume.pdf': '1. Aerospace Software Development\\n2. Performance Optimization\\n3. Application Reliability\\n4. Engineering Solutions\\n5. Aerospace Technology Advancements',\n",
       " 'Sofia_Vargas_Resume.pdf': '1. Sports Technology\\n2. Web Development\\n3. User Experience\\n4. Athletic Performance Enhancement\\n5. Vue.js and JavaScript Development',\n",
       " 'Alberto_Quintero_Resume.pdf': '1. Cloud Computing\\n2. Data Security\\n3. Network Infrastructure\\n4. Software Development (Angular, Java)\\n5. Database Management (Cassandra)',\n",
       " 'Nicolas_Gutierrez_Resume.pdf': '1. Renewable Energy Software Solutions\\n2. Front-end Development using React and JavaScript\\n3. Database Management with MongoDB\\n4. Environmental Engineering\\n5. Sustainable Technology Innovation',\n",
       " 'Catalina_Cruz_Resume.pdf': '1. Financial Analysis\\n2. Investment Strategies\\n3. Software Development for FinTech\\n4. Data Analysis\\n5. Financial Modeling',\n",
       " 'Sofia_Rodriguez_Resume.pdf': '1. Front-end Development (Angular)  \\n2. Back-end Development (Spring Boot)  \\n3. Database Management (MySQL)  \\n4. Project Management  \\n5. Financial Technology Solutions (FinTech)',\n",
       " 'Daniela_Sanchez_Resume.pdf': '1. Scalable Cloud Solutions Development\\n2. Frontend Development with Angular\\n3. Backend Development with Kotlin\\n4. Database Management with PostgreSQL\\n5. Software Engineering Practices and Collaboration Skills',\n",
       " 'Esteban_Pacheco_Resume.pdf': '1. Fullstack Web Development\\n2. Sustainable Technology Solutions\\n3. Environmental Science\\n4. Innovation in Eco-friendly Practices\\n5. Database Management with PostgreSQL',\n",
       " 'Silvia_Leon_Resume.pdf': '1. Environmental Engineering\\n2. Software Development with Angular and Ruby on Rails\\n3. Renewable Energy Solutions\\n4. Sustainability in Technology\\n5. Database Management with MySQL',\n",
       " 'Luis_Delgado_Resume.pdf': '1. Financial Software Development\\n2. Investment Strategy Enhancement\\n3. Full-Stack Web Development (Vue.js, Ruby on Rails, PostgreSQL)\\n4. Financial Analysis\\n5. Project Management and Effective Communication',\n",
       " 'Maria_Lopez_Resume.pdf': '1. Frontend Development\\n2. Vue.js Framework\\n3. Django Integration\\n4. MySQL Database Management\\n5. Team Collaboration and Communication',\n",
       " 'Juliana_Torres_Resume.pdf': \"Sure! Based on Juliana Torres' CV, here is a brief list of five areas of specialization:\\n\\n1. Game Development\\n2. User Experience Design\\n3. Front-end Technologies (React)\\n4. Backend Development (Python, MongoDB)\\n5. Creative Collaboration\",\n",
       " 'Andrea_Reyes_Resume.pdf': '1. React Development\\n2. Spring Boot Development\\n3. MySQL Database Management\\n4. Media Applications\\n5. User Experience Design',\n",
       " 'Gabriela_Contreras_Resume.pdf': 'Sure, based on the CV of Gabriela Contreras, here are five areas of specialization:\\n\\n1. Software Development\\n2. Food Production Optimization\\n3. Food Distribution Systems\\n4. Frontend Technologies (React)\\n5. Backend Technologies (Node.js, SQLite)',\n",
       " 'Samuel_Lopez_Resume.pdf': '1. Aerospace Software Development\\n2. Front-end Development with Vue.js\\n3. Backend Development with C#\\n4. Database Management with PostgreSQL\\n5. Technical Project Collaboration and Teamwork',\n",
       " 'Gabriela_Ortiz_Resume.pdf': 'Sure, here are five areas of specialization for Gabriela Ortiz:\\n\\n1. Data Engineering\\n2. Logistics Optimization\\n3. Python Programming\\n4. Data Analysis\\n5. Web Development with Vue.js',\n",
       " 'Camilo_Torres_Resume.pdf': '1. Cloud Computing\\n2. Network Performance Optimization\\n3. Software Development\\n4. Network Security\\n5. Full-Stack Development (React, Node.js, PostgreSQL)',\n",
       " 'Felipe_Lara_Resume.pdf': '1. Data Analysis\\n2. Data Visualization\\n3. Statistical Analysis\\n4. Business Intelligence\\n5. Programming (React, Python, MongoDB)',\n",
       " 'Diego_Herrera_Resume.pdf': '1. Front-end Development (Angular)\\n2. Back-end Development (.NET)\\n3. Database Management (SQL Server)\\n4. Agile Methodologies\\n5. Team Collaboration and Problem Solving',\n",
       " 'Laura_Ortega_Resume.pdf': '1. Food Science\\n2. Software Development\\n3. Food Safety\\n4. Application Development for Food Industry\\n5. Product Quality Management',\n",
       " 'Emiliano_Vega_Resume.pdf': '1. Full Stack Development (Angular, Flask, MariaDB)\\n2. Business Process Optimization\\n3. Data Analysis\\n4. Software Project Management\\n5. Technical Communication',\n",
       " 'Natalia_Serrano_Resume.pdf': 'Sure, here is a brief list of five areas of specialization for Natalia Serrano:\\n\\n1. Renewable Energy Software Development\\n2. Full-Stack Web Development (React, Node.js, PostgreSQL)\\n3. Environmental Science\\n4. Sustainability Technologies\\n5. Team Collaboration and Innovation',\n",
       " 'Santiago_Martinez_Resume.pdf': '1. Frontend Development\\n2. User Interface Design\\n3. JavaScript Frameworks\\n4. Team Collaboration\\n5. Database Management (PostgreSQL)',\n",
       " 'Rafael_Fernandez_Resume.pdf': '1. Financial Software Development\\n2. Investment Management Solutions\\n3. Financial Applications Programming\\n4. Software Development with React and Django\\n5. Investment Analysis and Financial Insights',\n",
       " 'Miguel_Rojas_Resume.pdf': '1. Front-End Development (Angular)\\n2. Back-End Development (Node.js)\\n3. Database Management (MongoDB)\\n4. Agile Methodologies\\n5. Technical Writing',\n",
       " 'Camila_Ramirez_Resume.pdf': '1. Sustainable Software Solutions\\n2. Environmental Impact Analysis\\n3. Full-Stack Web Development (React, Python, PostgreSQL)\\n4. Data Management and Analytics\\n5. Problem Solving in Environmental Contexts',\n",
       " 'Valentina_Gutierrez_Resume.pdf': '1. Sustainable Technology\\n2. Web Development\\n3. Environmental Impact Analysis\\n4. Full-Stack Development (React, Node.js, MongoDB)\\n5. Environmental Science',\n",
       " 'Andres_Ortiz_Resume.pdf': '1. User Interface Design\\n2. Frontend Development using React and JavaScript\\n3. Database Management with SQLite\\n4. Team Collaboration\\n5. Project and Time Management',\n",
       " 'Ignacio_Paredes_Resume.pdf': '1. Food Technology\\n2. Web Development\\n3. Sustainable Practices\\n4. Software Development\\n5. Food Science',\n",
       " 'Emiliano_Reyes_Resume.pdf': '1. Fashion Technology Integration\\n2. Application Development\\n3. User Experience Design\\n4. Trend Analysis and Forecasting\\n5. E-commerce Solutions Design',\n",
       " 'Isabel_Ramirez_Resume.pdf': '1. Biomedical Engineering\\n2. Healthcare Technology Development\\n3. Medical Software Development\\n4. Front-End Development (Vue.js)\\n5. Database Management (PostgreSQL)',\n",
       " 'Clara_Rivera_Resume.pdf': '1. Data Analysis\\n2. Data Visualization\\n3. Analytical Thinking\\n4. Problem Solving\\n5. Full Stack Development (with Angular and Django)',\n",
       " 'Javier_Ramirez_Resume.pdf': '1. Backend Development\\n2. Java Programming\\n3. MongoDB Database Management\\n4. Problem Solving and Critical Thinking\\n5. Software Engineering and Adaptability',\n",
       " 'Pilar_Salazar_Resume.pdf': '1. Financial Technology Development\\n2. Full-Stack Web Development\\n3. Financial Analysis\\n4. Software Engineering in FinTech\\n5. Leadership and Team Management',\n",
       " 'Carolina_Silva_Resume.pdf': '1. Data Analysis\\n2. Data Visualization\\n3. Analytical Thinking\\n4. Problem-Solving\\n5. Programming with Vue.js, Python, and MariaDB',\n",
       " 'Lorena_Pena_Resume.pdf': '1. Automotive Software Development\\n2. Front-End Development (Vue.js)\\n3. Backend Development (Ruby on Rails)\\n4. Database Management (MySQL)\\n5. Mechanical Engineering Applied to Automotive Technologies',\n",
       " 'Lucia_Herrera_Resume.pdf': '1. Media Application Development\\n2. Web Development\\n3. Content Strategy\\n4. Front-End Technologies (e.g., Angular)\\n5. Back-End Technologies (e.g., Flask, PostgreSQL)',\n",
       " 'Ana_Gomez_Resume.pdf': '1. Web Application Development\\n2. Frontend Technologies (React)\\n3. Backend Technologies (Python, SQLite)\\n4. Quality Assurance (QA) and Software Testing\\n5. Team Leadership and Project Management',\n",
       " 'Daniela_Aguirre_Resume.pdf': '1. Front-End Development\\n2. Mobile App Development\\n3. Database Management\\n4. Sports Performance Analytics\\n5. Project Collaboration and Team Dynamics',\n",
       " 'Agustin_Ramirez_Resume.pdf': '1. Business Strategy\\n2. Web Development\\n3. Client Relations\\n4. Full-Stack Development (React, Node.js)\\n5. Database Management (MariaDB)',\n",
       " 'Manuela_Diaz_Resume.pdf': '1. Frontend Development\\n2. Backend Development\\n3. Database Management\\n4. Agile Methodologies\\n5. Team Collaboration and Communication',\n",
       " 'Pablo_Mendez_Resume.pdf': '1. Business Analytics\\n2. Data-Driven Decision Making\\n3. Market Research\\n4. Business Intelligence\\n5. Consumer Behavior Analysis',\n",
       " 'Sofia_Molina_Resume.pdf': \"Certainly! Based on Sofía Molina's CV, here are five areas of specialization:\\n\\n1. Web Application Development\\n2. Biomedical Engineering\\n3. Frontend Technologies (e.g., Vue.js)\\n4. Database Management (e.g., SQL Server)\\n5. Healthcare Technology Innovation\",\n",
       " 'Juan_Perez_Resume.pdf': '1. **Embedded Systems Design and Development**\\n2. **Real-time Software Engineering**\\n3. **Microcontroller Programming**\\n4. **Hardware-Software Integration**\\n5. **User Interface Development with Vue.js**',\n",
       " 'Lucas_Morales_Resume.pdf': '1. Full Stack Development\\n2. Real Estate Development\\n3. User Experience Improvement\\n4. Operational Efficiency Enhancement\\n5. Data Analysis',\n",
       " 'Martin_Herrera_Resume.pdf': '1. Web Technologies\\n2. Scalable Application Development\\n3. Frontend Development with React\\n4. Backend Development with Java\\n5. Database Management with MySQL',\n",
       " 'Mateo_Espinoza_Resume.pdf': 'Sure, here are five areas of specialization for Mateo Espinoza:\\n\\n1. Digital Solutions for Real Estate\\n2. Web Development with Vue.js\\n3. Backend Development with Ruby on Rails\\n4. Database Management with MySQL\\n5. Real Estate Technology Integration',\n",
       " 'Pablo_Suarez_Resume.pdf': '1. Cloud-Based Solutions Development\\n2. Full-Stack Web Development\\n3. Software Engineering\\n4. Database Management\\n5. Technical Problem Solving',\n",
       " 'Victoria_Sosa_Resume.pdf': '1. E-commerce Development\\n2. Fashion Technology\\n3. Web Development (technologies used: Vue.js, Django, MySQL)\\n4. Creative Design\\n5. Fashion Design',\n",
       " 'Diego_Valenzuela_Resume.pdf': '1. Automotive Applications\\n2. Software Development\\n3. Vehicle Performance Enhancement\\n4. Web Development\\n5. Engineering Solutions in Mechanical Engineering',\n",
       " 'Lucas_Fuentes_Resume.pdf': '1. Front-End Development (Vue.js)\\n2. Back-End Development (Flask)\\n3. Database Management (PostgreSQL)\\n4. Software Development Practices\\n5. Team Collaboration and Problem Solving',\n",
       " 'Tomas_Morales_Resume.pdf': 'Certainly! Here are five areas of specialization for Tomás Morales:\\n\\n1. Logistics Process Optimization\\n2. Software Development\\n3. Data Analysis\\n4. Supply Chain Management\\n5. Technology Integration in Logistics',\n",
       " 'Karina_Morales_Resume.pdf': '1. Aerospace System Design\\n2. Systems Integration\\n3. Aerospace Software Engineering\\n4. Systems Analysis and Modeling\\n5. Aerospace Technology Development',\n",
       " 'Francisco_Vargas_Resume.pdf': '1. Financial Application Development\\n2. Frontend Development\\n3. UI/UX Design\\n4. User-Centered Development\\n5. Financial Technology Integration',\n",
       " 'Carmen_Castillo_Resume.pdf': '1. Sports Technology\\n2. Web Development\\n3. Data-Driven Performance Analysis\\n4. User Experience Design\\n5. Application Development',\n",
       " 'Hugo_Soto_Resume.pdf': '1. Real Estate Technology\\n2. Property Management Solutions\\n3. Client Engagement Strategies\\n4. Market Analysis\\n5. Project Management in Real Estate Development',\n",
       " 'Ivan_Rojas_Resume.pdf': '1. Automotive Performance Optimization\\n2. Automotive Technology Innovation\\n3. Software Development (Vue.js, Django)\\n4. Web Development\\n5. Project Management',\n",
       " 'Paula_Diaz_Resume.pdf': '1. Full Stack Development\\n2. Biotechnology Integration\\n3. Front-End Development with React\\n4. Java Programming\\n5. Database Management with Cassandra',\n",
       " 'Joaquin_Gomez_Resume.pdf': '1. Fashion Industry Software Solutions\\n2. Front-End Development with Vue.js\\n3. Full-Stack Development using JavaScript and MongoDB\\n4. Fashion Design and Technology Integration\\n5. Creative Collaboration and Attention to Detail in Tech Projects',\n",
       " 'Patricia_Mendoza_Resume.pdf': '1. Financial Software Development\\n2. Front-end Development with Angular\\n3. Back-end Development with Spring Boot\\n4. Database Management with Cassandra\\n5. Financial Analysis',\n",
       " 'Eduardo_Navarro_Resume.pdf': '1. Front-End Development\\n2. Back-End Development\\n3. Database Management\\n4. Media Technology Integration\\n5. Software Innovation in Entertainment Industry',\n",
       " 'Martin_Mendez_Resume.pdf': '1. Frontend Development\\n2. Backend Development\\n3. Full-Stack Development\\n4. Database Management\\n5. Software Development Methodologies',\n",
       " 'Mauricio_Pena_Resume.pdf': '1. Renewable Energy Software Solutions\\n2. Web Development\\n3. Energy Management Applications\\n4. Data Visualization\\n5. Sustainable Technology Innovation',\n",
       " 'Carlos_Fernandez_Resume.pdf': '1. Front-End Development (React)\\n2. Back-End Development (Node.js)\\n3. Database Management (PostgreSQL)\\n4. Software Development Practices\\n5. Team Leadership and Collaboration',\n",
       " 'Alejandro_Castillo_Resume.pdf': \"Alejandro Castillo's areas of specialization:\\n\\n1. Renewable Energy Software Solutions\\n2. Full-Stack Web Development (React, Ruby on Rails, PostgreSQL)\\n3. Environmental Engineering\\n4. Sustainable Technology Innovation\\n5. Problem Solving in GreenTech Applications\",\n",
       " 'Federico_Alvarez_Resume.pdf': '1. Logistics Optimization\\n2. Data Analysis\\n3. Supply Chain Management\\n4. Application Development (using Angular, Python, SQLite)\\n5. Operational Efficiency Improvement',\n",
       " 'Laura_Paredes_Resume.pdf': '1. Sports Performance Enhancement Applications\\n2. Full-Stack Web Development (Angular, Node.js, MongoDB)\\n3. Sports Science Integration with Technology\\n4. Leadership and Team Management in Tech Settings\\n5. Project Management in Software Development',\n",
       " 'Valeria_Castro_Resume.pdf': '1. Fullstack Development\\n2. Frontend Development with React\\n3. Backend Development with Ruby on Rails\\n4. Database Management with PostgreSQL\\n5. Project Leadership in Tech Projects',\n",
       " 'Sergio_Fernandez_Resume.pdf': '1. Biotechnology Integration\\n2. Software Engineering\\n3. Scientific Research Applications\\n4. Data Management in Life Sciences\\n5. Problem-Solving in Biotechnology and Software Development',\n",
       " 'Carolina_Guzman_Resume.pdf': '1. Data Analytics\\n2. Machine Learning\\n3. Data Visualization\\n4. Software Development (Angular, Java)\\n5. Database Management (MySQL)',\n",
       " 'Carolina_Rios_Resume.pdf': '1. Renewable Energy Engineering\\n2. Energy Efficiency\\n3. Software Development\\n4. Sustainable Solutions\\n5. Web Application Development (using Angular and Ruby on Rails)',\n",
       " 'Lucia_Flores_Resume.pdf': '1. Renewable Energy\\n2. Software Development\\n3. Energy Management Applications\\n4. Sustainable Practices\\n5. Data Management',\n",
       " 'Pedro_Vargas_Resume.pdf': '1. Full Stack Development\\n2. Automotive Engineering\\n3. Database Management\\n4. Front-End Development using Vue.js\\n5. Back-End Development with Java',\n",
       " 'Fernanda_Ruiz_Resume.pdf': '1. Biotechnology\\n2. Healthcare Technology Integration\\n3. Software Development\\n4. Medical Data Management\\n5. Team Collaboration and Problem Solving',\n",
       " 'Hernan_Acosta_Resume.pdf': '1. Frontend Development with React\\n2. Backend Development with Python\\n3. Database Management with MongoDB\\n4. Software Development Lifecycle\\n5. Collaborative Team Projects and Problem Solving',\n",
       " 'Jose_Munoz_Resume.pdf': '1. Health Tech\\n2. Backend Development\\n3. Medical Software\\n4. Biomedical Engineering\\n5. Full-Stack Development (React, Spring Boot, PostgreSQL)',\n",
       " 'Ricardo_Martinez_Resume.pdf': '1. Backend Development\\n2. Database Management (MongoDB)\\n3. Server-Side Scripting (Node.js, Express)\\n4. Scalable System Design\\n5. Technical Problem Solving',\n",
       " 'Gonzalo_Romero_Resume.pdf': '1. Real Estate Technology Integration\\n2. Property Management Software Development\\n3. Customer Experience Enhancement\\n4. Web Application Development\\n5. Market Analysis in Real Estate',\n",
       " 'Natalia_Acosta_Resume.pdf': '1. Biotechnology\\n2. Software Development\\n3. Web Development\\n4. Data Management\\n5. Scientific Research Applications',\n",
       " 'Felipe_Correa_Resume.pdf': '1. Financial Analysis\\n2. Financial Technology (FinTech)\\n3. Data Analysis\\n4. Investment Strategies\\n5. Analytical Tool Development'}"
      ]
     },
     "execution_count": 8,
     "metadata": {},
     "output_type": "execute_result"
    }
   ],
   "source": [
    "process_partners_cvs(cvs_dict)"
   ]
  },
  {
   "cell_type": "code",
   "execution_count": 9,
   "metadata": {},
   "outputs": [],
   "source": [
    "df = pd.read_csv(PROCESSED_FILE)\n",
    "df_cvs_processed = organize_dataframe(df)"
   ]
  },
  {
   "cell_type": "code",
   "execution_count": 10,
   "metadata": {},
   "outputs": [
    {
     "data": {
      "text/html": [
       "<div>\n",
       "<style scoped>\n",
       "    .dataframe tbody tr th:only-of-type {\n",
       "        vertical-align: middle;\n",
       "    }\n",
       "\n",
       "    .dataframe tbody tr th {\n",
       "        vertical-align: top;\n",
       "    }\n",
       "\n",
       "    .dataframe thead th {\n",
       "        text-align: right;\n",
       "    }\n",
       "</style>\n",
       "<table border=\"1\" class=\"dataframe\">\n",
       "  <thead>\n",
       "    <tr style=\"text-align: right;\">\n",
       "      <th></th>\n",
       "      <th>Name</th>\n",
       "      <th>Processed_CV</th>\n",
       "      <th>Processed_CV_list</th>\n",
       "    </tr>\n",
       "  </thead>\n",
       "  <tbody>\n",
       "    <tr>\n",
       "      <th>0</th>\n",
       "      <td>Francisco Moreno</td>\n",
       "      <td>1. Aerospace Software Development\\n2. Performa...</td>\n",
       "      <td>[Aerospace Software Development, Performance O...</td>\n",
       "    </tr>\n",
       "    <tr>\n",
       "      <th>1</th>\n",
       "      <td>Sofia Vargas</td>\n",
       "      <td>1. Sports Technology\\n2. Web Development\\n3. U...</td>\n",
       "      <td>[Sports Technology, Web Development, User Expe...</td>\n",
       "    </tr>\n",
       "    <tr>\n",
       "      <th>2</th>\n",
       "      <td>Alberto Quintero</td>\n",
       "      <td>1. Cloud Computing\\n2. Data Security\\n3. Netwo...</td>\n",
       "      <td>[Cloud Computing, Data Security, Network Infra...</td>\n",
       "    </tr>\n",
       "    <tr>\n",
       "      <th>3</th>\n",
       "      <td>Nicolas Gutierrez</td>\n",
       "      <td>1. Renewable Energy Software Solutions\\n2. Fro...</td>\n",
       "      <td>[Renewable Energy Software Solutions, Front-en...</td>\n",
       "    </tr>\n",
       "    <tr>\n",
       "      <th>4</th>\n",
       "      <td>Catalina Cruz</td>\n",
       "      <td>1. Financial Analysis\\n2. Investment Strategie...</td>\n",
       "      <td>[Financial Analysis, Investment Strategies, So...</td>\n",
       "    </tr>\n",
       "  </tbody>\n",
       "</table>\n",
       "</div>"
      ],
      "text/plain": [
       "                Name                                       Processed_CV  \\\n",
       "0   Francisco Moreno  1. Aerospace Software Development\\n2. Performa...   \n",
       "1       Sofia Vargas  1. Sports Technology\\n2. Web Development\\n3. U...   \n",
       "2   Alberto Quintero  1. Cloud Computing\\n2. Data Security\\n3. Netwo...   \n",
       "3  Nicolas Gutierrez  1. Renewable Energy Software Solutions\\n2. Fro...   \n",
       "4      Catalina Cruz  1. Financial Analysis\\n2. Investment Strategie...   \n",
       "\n",
       "                                   Processed_CV_list  \n",
       "0  [Aerospace Software Development, Performance O...  \n",
       "1  [Sports Technology, Web Development, User Expe...  \n",
       "2  [Cloud Computing, Data Security, Network Infra...  \n",
       "3  [Renewable Energy Software Solutions, Front-en...  \n",
       "4  [Financial Analysis, Investment Strategies, So...  "
      ]
     },
     "execution_count": 10,
     "metadata": {},
     "output_type": "execute_result"
    }
   ],
   "source": [
    "# Sanity check\n",
    "df_cvs_processed.head()"
   ]
  },
  {
   "cell_type": "markdown",
   "metadata": {},
   "source": [
    "# Create full profiles"
   ]
  },
  {
   "cell_type": "code",
   "execution_count": 11,
   "metadata": {},
   "outputs": [],
   "source": [
    "# Realizar el merge basado en la columna 'Name'\n",
    "profile_df = pd.merge(partner_information_dataframe, df_cvs_processed, on=\"Name\", how=\"inner\")\n"
   ]
  },
  {
   "cell_type": "code",
   "execution_count": 12,
   "metadata": {},
   "outputs": [],
   "source": [
    "profile_df.to_csv(\"experts_profile.csv\")"
   ]
  },
  {
   "cell_type": "markdown",
   "metadata": {},
   "source": [
    "# Embeddings from profiles"
   ]
  },
  {
   "cell_type": "code",
   "execution_count": 13,
   "metadata": {},
   "outputs": [
    {
     "name": "stdout",
     "output_type": "stream",
     "text": [
      "The embedding matrix contains: 96 samples\n",
      "Each embedding has: 1536 features\n"
     ]
    }
   ],
   "source": [
    "normalized_embeddings = process_and_normalize_embeddings(client, profile_df)"
   ]
  },
  {
   "cell_type": "code",
   "execution_count": 14,
   "metadata": {},
   "outputs": [
    {
     "name": "stdout",
     "output_type": "stream",
     "text": [
      "Embedding examples:\n",
      "[ 0.02341388 -0.00624505 -0.01109256 ... -0.01348256  0.00174524\n",
      " -0.00140429]\n",
      "[ 0.02447718 -0.00612943 -0.01300899 ... -0.01393483  0.00265417\n",
      " -0.00081222]\n",
      "[-0.00267151 -0.02462849 -0.00130753 ... -0.03272853 -0.00721067\n",
      "  0.0109802 ]\n"
     ]
    }
   ],
   "source": [
    "print(\"Embedding examples:\")\n",
    "print(normalized_embeddings[0])  # First embedding\n",
    "print(normalized_embeddings[1])  # Second embedding\n",
    "print(normalized_embeddings[-1])  # Last embedding\n"
   ]
  },
  {
   "cell_type": "markdown",
   "metadata": {},
   "source": [
    "# User GPT request"
   ]
  },
  {
   "cell_type": "code",
   "execution_count": 54,
   "metadata": {},
   "outputs": [],
   "source": [
    "%run functions-howdy.ipynb\n",
    "\n",
    "# Initialize client\n",
    "client = OpenAI(\n",
    "    api_key=OPENAI_API_KEY,\n",
    ")"
   ]
  },
  {
   "cell_type": "code",
   "execution_count": 55,
   "metadata": {},
   "outputs": [
    {
     "name": "stdout",
     "output_type": "stream",
     "text": [
      "Wait a few moments while I search the database\n",
      "This shouldn't take more than 20 seconds\n",
      "Certainly! From the list of experts, I found a few who can be of great help.\n",
      "\n",
      "1. Jose Munoz: Jose is an experienced professional working at QuantumMed Innovations, a healthcare company. He has a solid background in Health Tech and Medical Software. His skills in Backend Development and Full-Stack Development using React, Spring Boot, and PostgreSQL can certainly help you grasp the complex concepts you are encountering.\n",
      "\n",
      "2. Isabel Ramirez: Also working at QuantumMed Innovations, Isabel has a strong expertise in Biomedical Engineering, Healthcare Technology Development, and Medical Software Development where she utilizes tools like Vue.js, Java, and PostgreSQL. Isabel's knowledge extends to Front-End Development and Database Management, which could also be useful to your learning journey.\n",
      "\n",
      "3. Fernanda Ruiz: Also at QuantumMed Innovations, Fernanda specializes in Biotechnology and Healthcare Technology Integration. She is experienced in Software Development, Medical Data Management, and is well-versed in using Angular, Java, and MySQL. Her expertise in team collaboration and problem-solving could be useful if you are working as part of a team.\n",
      "\n",
      "All three professionals work in the healthcare tech field and have a wide array of knowledge they can share. Upon personal evaluation, I think they can greatly help in clearing up confusion and providing valuable insights regarding various healthcare system concepts.\n"
     ]
    }
   ],
   "source": [
    "user_prompt = \"\"\"\n",
    "    Im working for a healthcare system company and there are a lot of concepts that I don't understand.\n",
    "    Can you refer me to someone who knows about the topic?\n",
    "\"\"\"\n",
    "expert_search_response = generate_response(user_prompt)\n",
    "\n",
    "print(expert_search_response)"
   ]
  },
  {
   "cell_type": "code",
   "execution_count": 56,
   "metadata": {},
   "outputs": [
    {
     "name": "stdout",
     "output_type": "stream",
     "text": [
      "Wait a few moments while I search the database\n",
      "This shouldn't take more than 20 seconds\n",
      "Hello! How can I assist you today? Whether you need recommendations, guidance, or just someone to answer your questions, I'm here to help.\n"
     ]
    }
   ],
   "source": [
    "user_prompt = \"\"\" Hi chat gpt\"\"\"\n",
    "\n",
    "simple_response = generate_response(user_prompt)\n",
    "\n",
    "print(simple_response)"
   ]
  },
  {
   "cell_type": "code",
   "execution_count": 57,
   "metadata": {},
   "outputs": [
    {
     "name": "stdout",
     "output_type": "stream",
     "text": [
      "Wait a few moments while I search the database\n",
      "This shouldn't take more than 20 seconds\n",
      "I'm sorry, but among the available experts we have right now, none of them specialize in painting or similar areas. \n",
      "\n",
      "Santiago Martinez who works with TechNova Solutions has expertise in Frontend Development, User Interface Design, JavaScript Frameworks, Team Collaboration, and Database Management (PostgreSQL). He is very adept with Vue.js, JavaScript, PostgreSQL.\n",
      "\n",
      "Another expert associated with us is Javier Ramirez from BlueWave Logistics. He can assist with Backend Development, Java Programming, MongoDB Database Management, Problem Solving and Critical Thinking and Software Engineering and Adaptability, and he is experienced with Angular, Java, MongoDB technologies.\n",
      "\n",
      "There is also Martin Herrera, who is also part of TechNova Solutions. His skills include Web Technologies, Scalable Application Development, Frontend Development with React, Backend Development with Java, and Database Management with MySQL. He primarily uses React, Java, MySQL technologies. \n",
      "\n",
      "Given that their areas of expertise are not in painting, I'm afraid they might not be able to provide you with the advice you need. However, I can look for help from other resources or departments in the company.\n"
     ]
    }
   ],
   "source": [
    "user_prompt = \"Im trying to find some painter to give me advice\"\n",
    "\n",
    "failed_expert_search_response = generate_response(user_prompt)\n",
    "\n",
    "print(failed_expert_search_response)"
   ]
  }
 ],
 "metadata": {
  "kernelspec": {
   "display_name": "Python 3",
   "language": "python",
   "name": "python3"
  },
  "language_info": {
   "codemirror_mode": {
    "name": "ipython",
    "version": 3
   },
   "file_extension": ".py",
   "mimetype": "text/x-python",
   "name": "python",
   "nbconvert_exporter": "python",
   "pygments_lexer": "ipython3",
   "version": "3.9.18"
  }
 },
 "nbformat": 4,
 "nbformat_minor": 2
}
